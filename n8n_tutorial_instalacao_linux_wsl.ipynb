{
 "cells": [
  {
   "cell_type": "markdown",
   "id": "9b3221bb",
   "metadata": {},
   "source": [
    "# 🧪 Tutorial: Como Instalar n8n no Linux via WSL localmente."
   ]
  },
  {
   "cell_type": "markdown",
   "id": "415384df",
   "metadata": {},
   "source": [
    "## ✅ Pré-requisitos\n",
    "- Windows 10/11 com **WSL (Windows Subsystem for Linux)** instalado\n",
    "- Acesso à internet\n",
    "- Terminal com permissões de superusuário (`sudo`)"
   ]
  },
  {
   "cell_type": "markdown",
   "id": "22414868",
   "metadata": {},
   "source": [
    "## 🧩 1. Instalar o WSL"
   ]
  },
  {
   "cell_type": "code",
   "execution_count": null,
   "id": "f178b8f1",
   "metadata": {},
   "outputs": [],
   "source": [
    "wsl --install"
   ]
  },
  {
   "cell_type": "markdown",
   "id": "d95f9b6f",
   "metadata": {},
   "source": [
    "> Reinicie o PC se necessário. Por padrão, o Ubuntu será instalado."
   ]
  },
  {
   "cell_type": "markdown",
   "id": "00c90268",
   "metadata": {},
   "source": [
    "## ⚙️ 2. Instalar `nvm` (Node Version Manager)"
   ]
  },
  {
   "cell_type": "code",
   "execution_count": null,
   "id": "515776c5",
   "metadata": {},
   "outputs": [],
   "source": [
    "curl -o- https://raw.githubusercontent.com/nvm-sh/nvm/v0.39.7/install.sh | bash\n",
    "source ~/.bashrc\n",
    "nvm --version"
   ]
  },
  {
   "cell_type": "markdown",
   "id": "18bfc53a",
   "metadata": {},
   "source": [
    "## 📦 3. Instalar o Node.js (versão compatível com o n8n)"
   ]
  },
  {
   "cell_type": "code",
   "execution_count": null,
   "id": "e7e61ad1",
   "metadata": {},
   "outputs": [],
   "source": [
    "nvm install 20.19.0\n",
    "nvm use 20.19.0\n",
    "nvm alias default 20.19.0\n",
    "node -v\n",
    "npm -v"
   ]
  },
  {
   "cell_type": "markdown",
   "id": "09031594",
   "metadata": {},
   "source": [
    "## 🚀 4. Instalar o `n8n` globalmente"
   ]
  },
  {
   "cell_type": "code",
   "execution_count": null,
   "id": "45e17752",
   "metadata": {},
   "outputs": [],
   "source": [
    "npm install -g n8n"
   ]
  },
  {
   "cell_type": "markdown",
   "id": "9d7535dd",
   "metadata": {},
   "source": [
    "## ▶️ 5. Rodar o `n8n`"
   ]
  },
  {
   "cell_type": "code",
   "execution_count": null,
   "id": "0cf48b73",
   "metadata": {},
   "outputs": [],
   "source": [
    "n8n start"
   ]
  },
  {
   "cell_type": "markdown",
   "id": "61266550",
   "metadata": {},
   "source": [
    "Acesse via navegador:\n",
    "\n",
    "```\n",
    "http://localhost:5678\n",
    "```"
   ]
  },
  {
   "cell_type": "markdown",
   "id": "3c679d03",
   "metadata": {},
   "source": [
    "## 📝 6. Criar Conta no Dashboard\n",
    "\n",
    "1. Abra o navegador: `http://localhost:5678`\n",
    "2. Cadastre-se (usuário, senha)\n",
    "3. Comece a criar seus fluxos 🎉"
   ]
  },
  {
   "cell_type": "markdown",
   "id": "33ba5a70",
   "metadata": {},
   "source": [
    "## 🧼 Extras"
   ]
  },
  {
   "cell_type": "markdown",
   "id": "853f3a10",
   "metadata": {},
   "source": [
    "### Atualizar `n8n` no futuro:"
   ]
  },
  {
   "cell_type": "code",
   "execution_count": null,
   "id": "e6ddf22f",
   "metadata": {},
   "outputs": [],
   "source": [
    "npm update -g n8n"
   ]
  }
 ],
 "metadata": {
  "kernelspec": {
   "display_name": "Python 3",
   "language": "python",
   "name": "python3"
  },
  "language_info": {
   "codemirror_mode": {
    "name": "ipython",
    "version": 3
   },
   "file_extension": ".py",
   "mimetype": "text/x-python",
   "name": "python",
   "nbconvert_exporter": "python",
   "pygments_lexer": "ipython3",
   "version": "3.10.10"
  }
 },
 "nbformat": 4,
 "nbformat_minor": 5
}
